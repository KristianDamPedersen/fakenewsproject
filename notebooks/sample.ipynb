{
 "cells": [
  {
   "cell_type": "code",
   "execution_count": 57,
   "metadata": {},
   "outputs": [],
   "source": [
    "# Import csv to dataframe\n",
    "import pandas as pd\n",
    "import numpy as np\n",
    "\n",
    "df = pd.read_csv(\"news_sample.csv\")"
   ]
  },
  {
   "cell_type": "code",
   "execution_count": 58,
   "metadata": {},
   "outputs": [],
   "source": [
    "content = df[\"content\"]\n",
    "# Flatten list\n",
    "try:\n",
    "    del df\n",
    "except:\n",
    "    pass"
   ]
  },
  {
   "cell_type": "code",
   "execution_count": 59,
   "metadata": {},
   "outputs": [
    {
     "name": "stderr",
     "output_type": "stream",
     "text": [
      "[nltk_data] Downloading package punkt to /home/josh/nltk_data...\n",
      "[nltk_data]   Package punkt is already up-to-date!\n"
     ]
    },
    {
     "name": "stdout",
     "output_type": "stream",
     "text": [
      "Vocabulary size: (17914, 17768, 12604)\n",
      "Reduction rate: [0.0, 0.8150050240035682, 29.641621078486097]\n"
     ]
    }
   ],
   "source": [
    "import nltk\n",
    "\n",
    "# Download tokenizer\n",
    "nltk.download(\"punkt\")\n",
    "from nltk.tokenize import word_tokenize\n",
    "\n",
    "\n",
    "# Calculate vocabulary size\n",
    "def get_vocabulary_size(content):\n",
    "    # Merge list of text into one string\n",
    "    big_str = \" \".join(content)\n",
    "\n",
    "    # tokenize the text\n",
    "    tokens = word_tokenize(big_str)\n",
    "    # flatten the list\n",
    "    vocab = set(tokens)\n",
    "\n",
    "    # Now compare to stopwords\n",
    "    stop_words = nltk.corpus.stopwords.words(\"english\")\n",
    "    stopped_tokens = [w for w in tokens if not w.lower() in stop_words]\n",
    "    vocab2 = set(stopped_tokens)\n",
    "\n",
    "    # Now stem the words\n",
    "    from nltk.stem.porter import PorterStemmer\n",
    "\n",
    "    stemmer = PorterStemmer()\n",
    "    stemmed_tokens = [stemmer.stem(w) for w in stopped_tokens]\n",
    "    vocab3 = set(stemmed_tokens)\n",
    "\n",
    "    return len(vocab), len(vocab2), len(vocab3)\n",
    "\n",
    "\n",
    "vocab_sizes = get_vocabulary_size(content)\n",
    "print(\"Vocabulary size: {}\".format(vocab_sizes))\n",
    "\n",
    "# Reduction rate for each of the vocabs\n",
    "percents = [\n",
    "    100 - (vocab_sizes[i] / vocab_sizes[0] * 100) for i in range(0, len(vocab_sizes))\n",
    "]\n",
    "print(\"Reduction rate: {}\".format(percents))"
   ]
  }
 ],
 "metadata": {
  "kernelspec": {
   "display_name": "fakenewsproject-svAUhgBm",
   "language": "python",
   "name": "python3"
  },
  "language_info": {
   "codemirror_mode": {
    "name": "ipython",
    "version": 3
   },
   "file_extension": ".py",
   "mimetype": "text/x-python",
   "name": "python",
   "nbconvert_exporter": "python",
   "pygments_lexer": "ipython3",
   "version": "3.10.10"
  },
  "orig_nbformat": 4
 },
 "nbformat": 4,
 "nbformat_minor": 2
}
