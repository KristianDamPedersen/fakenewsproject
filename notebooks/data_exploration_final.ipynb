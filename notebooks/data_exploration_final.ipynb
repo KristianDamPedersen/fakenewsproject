{
 "cells": [
  {
   "attachments": {},
   "cell_type": "markdown",
   "metadata": {},
   "source": [
    "# Data treatment and exploration for report"
   ]
  },
  {
   "attachments": {},
   "cell_type": "markdown",
   "metadata": {},
   "source": [
    "## Gain access to SQL database"
   ]
  },
  {
   "cell_type": "code",
   "execution_count": 2,
   "metadata": {},
   "outputs": [],
   "source": [
    "# Import the nessary libraries\n",
    "import pandas as pd\n",
    "import numpy as np\n",
    "import matplotlib.pyplot as plt\n",
    "import seaborn as sns\n",
    "import sqlite3"
   ]
  },
  {
   "cell_type": "code",
   "execution_count": 3,
   "metadata": {},
   "outputs": [],
   "source": [
    "db = sqlite3.connect(\"../data/full_database.db\")"
   ]
  },
  {
   "cell_type": "code",
   "execution_count": 4,
   "metadata": {},
   "outputs": [
    {
     "name": "stdout",
     "output_type": "stream",
     "text": [
      "('0', '2', 'express.co.uk', 'rumor', 'https://www.express.co.uk/news/science/738402/life-an-ILLUSION-reality-does-not-exist-if-you-are-not-looking-at-it', 'Life is an illusion, at least on a quantum level, in a theory which has recently been confirmed by a set of researchers.  They finally have the means to test John Wheeler’s delayed-choice theory and concluded that the physicist was right.  In 1978, Mr Wheeler’s proposed experiment involved a moving object that was given the choice to act like a wave or a particle – the former acting as a vibration with a frequency that can distinguish it from other waves and the latter having no frequency that you can determine its position in space, unlike a wave – and at what point does it ‘decide’ to act like one or the other.  At the time, the technology was not available to conduct a strong experiment, but scientists have now been able to carry it out.', '2018-01-25 16:17:44.789555', '2018-02-02 01:19:41.756632', '2018-02-02 01:19:41.756664', \"Is life an ILLUSION? Researchers prove 'reality doesn't exist if you're not looking at it'\", 'Sean Martin', '', \"['']\", 'THE UNIVERSE ceases to exist when we are not looking at it proving that life is an illusion, according to one study.', '', '', '', 2571970468169263104)\n",
      "('1', '6', 'barenakedislam.com', 'hate', 'http://barenakedislam.com/category/donald-trump/page/43/', 'Unfortunately, he hasn’t yet attacked her for Islamic terrorism-connections, but we know he will. Below are several links that explain in detail why having Huma Abedin anywhere near the White House would be like inviting in the terrorism-linked Muslim Brotherhood, which has been banned in Egypt and the UAE. BNI Readers, please forward the damning […]', '2018-01-25 16:17:44.789555', '2018-02-02 01:19:41.756632', '2018-02-02 01:19:41.756664', 'Donald Trump', 'Linda Rivera, Conrad Calvano, Az Gal, Lincoln Applegate Hahn, Kevin Collins, Jesus Rivera', '', \"['']\", '', '', '', '', -8762005036172044288)\n",
      "('2', '7', 'barenakedislam.com', 'hate', 'http://barenakedislam.com/category/donald-trump/page/2/', 'The Los Angeles Police Department has been denied $3 million in federal aid for law enforcement. While there is no official announcement as to why, it is more than likely that it has everything to do with LA’s “sanctuary city” status for harboring illegal aliens. Donald Trump and Attorney General Jeff Sessions have repeatedly said […]', '2018-01-25 16:17:44.789555', '2018-02-02 01:19:41.756632', '2018-02-02 01:19:41.756664', 'Donald Trump', 'Linda Rivera, Conrad Calvano, Az Gal, Lincoln Applegate Hahn, Kevin Collins, Jesus Rivera', '', \"['']\", '', '', '', '', -4149976588132847616)\n",
      "('3', '8', 'barenakedislam.com', 'hate', 'http://barenakedislam.com/2017/12/24/more-winning-israeli-intelligence-source-debkafile-confirms-the-trump-administration-to-cut-off-ties-with-the-palestinians-which-means-no-peace-plan-no-more-financial-aid/', 'The White House has decided to quietly withdraw from all its ties with the Ramallah-based Palestinian Authority and Mahmoud Abbas.    Debka (h/t Marvin W) DEBKAfile’s exclusive sources report that the Trump administration has resolved to scrap all ties with the Palestinian leadership in retaliation for its campaign against US President Donald Trump and his Jerusalem policy. Several warnings to Mahmoud Abbas (aka Abu Mazen) of what was in store if he did not desist from castigating the US president fell on death ears.  Last week, two Arab crown princes, Saudi Muhammed bin Salman and UAE Sheikh Muhammed bin Zayed, summoned Abbas to their capitals and urged him strongly to back away from his attacks on President Trump. He got the same advice from the ruler of Qatar, Sheikh Tamim Al Thani, who conferred with Washington on the subject – all to no avail. The Trump administration has therefore set out an eight-point program of sanctions, first revealed here:  The Israeli-Palestinian peace plan under preparation in Washington will not be submitted to Ramallah – only to Israel and the relevant Arab governments.  US-Palestinian interaction is to be suspended – not just at the senior levels but in day-to-day interchanges. The administration has notified Palestinian and other Arab parties to stop addressing queries on political and economic matters to the US consulate in Jerusalem, because they will not receive answers.  The status of the PLO office in Washington will be reevaluated with a view to shutting it down.  Palestinian officials will no longer be invited to Washington by the US government, including the State Department and Department of Treasury.  Above all, they will not be welcome at the White House or the National Security Council where US Middle East policy is designed. Senior US officials congratulated the senior Palestinian negotiator Saab Erekat, who also holds the PA’s American portfolio, on his recovery from illness, at the same time warning him that he would no longer be received at the White House.  The Trump administration will not make any public announcement of the cutoff of financial aid to the Palestinians. Since the funds are mostly earmarked for specific economic projects, each allocation will simply be held back on the pretext of the need for a “reappraisal.”  The US will halt its contributions to the UN Work and Relief Organization, an estimated one billion dollars per annum.  The US administration moreover intervened with the governments of Saudi Arabia, Abu Dhabi and Qatar with a request that they freeze or slow their economic aid to the Palestinian Authority.  According DEBKAfile’s sources, Palestinian officials in Ramallah were devastated by news of the sudden cutoff of the main sources of the PA’s revenue. Even the Qatar ruler, whom Abbas visited last week as a last resort to save the PA from economic meltdown, refused to release any more funding.', '2018-01-25 16:17:44.789555', '2018-02-02 01:19:41.756632', '2018-02-02 01:19:41.756664', 'MORE WINNING! Israeli intelligence source, DEBKAfile, confirms the Trump Administration to cut off ties with the Palestinians, which means no peace plan, no more financial aid', 'Cleavis Nowell, Cleavisnowell, Clarence J. Feinour, Don Spilman, Jay Dillon, Al Dajjal, Linda Rivera, Conrad Calvano, Az Gal, Lincoln Applegate Hahn', '', \"['']\", '', '', '', '', -5105860675719645184)\n",
      "('4', '9', 'barenakedislam.com', 'hate', 'http://barenakedislam.com/2017/12/25/oh-trump-you-coward-you-just-wait-we-will-dig-your-grave-by-means-of-the-islamic-caliphate/', '“The time has come to cut off the tongues of those who support peace and those who mourn it.” (Can’t disagree there, Arab Muslims occupying Israel will never live in peace with the native population – the Jews).', '2018-01-25 16:17:44.789555', '2018-02-02 01:19:41.756632', '2018-02-02 01:19:41.756664', '“Oh, Trump, you coward, you just wait, we will dig your grave by means of the Islamic Caliphate”', 'F.N. Lehner, Don Spilman, Clarence J. Feinour, Linda Rivera, Conrad Calvano, Az Gal, Lincoln Applegate Hahn, Kevin Collins, Jesus Rivera', '', \"['']\", '', '', '', '', 4362123968482897920)\n",
      "('5', '10', 'barenakedislam.com', 'hate', 'http://barenakedislam.com/2017/12/27/following-guatemalas-decision-to-move-its-embassy-to-jerusalem-the-capital-of-israel-10-more-countries-are-also-considering-the-move/', 'The Central American nation and six other states voted with the US and Israel, in contrast to the rest of the UN General Assembly which last week voted 128-9 to condemn the US decision to recognize Jerusalem.  Hotovely did not name any of the 10 countries, but said many had a strong Christian tradition. Philippines, the Czech Republic and Romania abstained from the UNGA vote last week, but have entertained the possibility of joining Guatemala and the United States, with Czech President Milos Zeman supporting the move to Jerusalem.  “I spoke yesterday with my friend the Guatemalan president, and thanked him for his support of us through his vote in the UN,” he said in the Knesset. “I expressed my hope that he will follow President Trump’s footsteps and recognize Jerusalem as Israel’s capital, and will begin the process of moving the embassy there. That night he released an announcement that he would in fact do so. So I want to say, from here, to the president of Guatemala: May God bless you, my friend, and may God bless our countries.”', '2018-01-25 16:17:44.789555', '2018-02-02 01:19:41.756632', '2018-02-02 01:19:41.756664', 'Following Guatemala’s decision to move its embassy to Jerusalem, the capital of Israel, 10 MORE countries are also considering the move', 'Pamela Jeffersons, Cleavis Nowell, Cleavisnowell, Linda Rivera, Conrad Calvano, Az Gal, Lincoln Applegate Hahn, Kevin Collins, Jesus Rivera', '', \"['']\", '', '', '', '', 3259530222446104576)\n",
      "('6', '11', 'blackagendareport.com', 'unreliable', 'https://blackagendareport.com/un-backed-police-massacred-haitians-impunity', \"UN-Backed Police Massacred Haitians With Impunity  “When the police finally left the campus, around 11 a.m., nine civilians lay dead in the courtyard — five of whom had been shot in the head.”  At 5 o'clock on the morning of November 13, more than 200 Haitian police officers raided the Grand Ravine area of Port-au-Prince. There was a series of loud explosions, followed by gunfire. For the next six hours, the commotion didn’t stop. The neighborhood was under siege.  What had started as an anti-gang operation in a poor and largely forgotten neighborhood — in a poor and largely forgotten country — ended in the summary execution of innocent civilians on a school campus.  The police officers were working with the United Nations Mission for Justice Support in Haiti. It was launched in October, a reboot of a previous mission that had begun in 2004, when thousands of U.N. troops were sent to Haiti following a coup d’etat, tasked in part with restoring stability and reinforcing national police capacities.  And though the U.N. mission issued a statement days after the raid calling for a prompt investigation by Haitian authorities, it did not publicly acknowledge its own role in the operation. But in late December, a U.N. spokesperson confirmed to The Intercept for the first time that the mission had helped plan the raid, though it distanced itself from the civilian deaths.  “The reported civilian death[s] were not part of the planned operation but of a unilateral action conducted by some [Haitian police] officers after the conclusion of the operation,” the spokesperson, Sophie Boutaud de la Combe, wrote in an email. The raid of the school, according to the U.N. statement, was done without authorization, without alerting the police hierarchy, and outside of the operational plan.  “The U.N. mission did not publicly acknowledge its own role in the operation.”  Boutaud de la Combe said that, a day after the raid, the U.N. “conducted an internal enquiry with all the unit commanders who participated in the operation.” The U.N. inquiry, not previously reported, absolved the U.N. finding that U.N. police did not fire their weapons and only “secured the perimeter” of the school, she said.  “None of the [U.N. police] unit proceeded to the location at Maranatha College where the alleged killings took place,” the spokesperson wrote. “The planned portion of the operation went relatively well. The post-operation unilateral initiative of some HNP members to conduct a high risk search, proceeding outside of the operational cadre, without advising the hierarchy, without authorization and contravening the operation plan was not part of the planned operation.”  When I arrived at the Maranatha Evangelical College campus, traveling with a broadcast team from Al Jazeera four days after the raid, it was immediately obvious something heinous had transpired.  The blood that stained the concrete was still wet, unable to dry in the blanket of fog and mist that kept the capital unusually cool that particular week. Water pooled in the courtyard’s clogged drain had turned a dark red, partially obscuring an empty tear gas canister. The smell of the violence still hung in the heavy air.  Classrooms and offices had been ransacked, the contents of closets, drawers, and bookcases spilled across the floors and through the doorways. Light crept in through holes left by bullets that had pierced through the thick concrete. Sometime since the raid, someone had swept another five empty tear gas canisters and close to 100 heavy artillery shells into a pile.  “Water pooled in the courtyard’s clogged drain had turned a dark red.”  The morning we arrived, faculty and students were meeting to mourn those who had been killed. The school was still closed. They gathered in one of the small classrooms, closed the door to us outsiders, and began to sing. The religious hymns — deep, soulful melodies — echoed throughout the courtyard where they mixed with cries of grieving victims and family members anxious to tell their stories.  “I must kill myself,” Monique Larosse, whose nephew was shot in this courtyard days earlier, told us. “Why did they kill him when they know he was not one of the bad men? He was someone who went to church, studied, and had principles.”  The stories Larose, along with other survivors and family members, told me make clear something went horribly wrong on that mid-November day. While there’s a lot still unclear, one thing is for certain — the official narrative is at odds with what the people of Grand Ravine say they witnessed and experienced. And they are a far ways off from finding justice.  Located near the southern entrance to Haiti’s sprawling capital, Grand Ravine is built on a hillside with picturesque views of the Caribbean Sea. And yet, it’s a downtrodden neighborhood.  Haphazard construction with paltry regulation has left neighborhoods, including Grand Ravine, with little to no infrastructure or government services. Many areas are only accessible by foot.  Narrow, misshapen alleys ascend through the concrete homes secured with rusted sheet metal.  Amid all this is the Maranatha Evangelical College, which has operated here since the 1940s. Despite the name, it offers classes for neighborhood kids beginning in preschool. The campus is a mashup of school buildings, houses and a healthy number of full-size trees, a dissonant image in a city overwhelmed by concrete. A low wall marks it off from the surrounding area.  The only entrance to the elevated campus is a sloping, winding road that sits behind a large metal gate. The campus is a refuge, an oasis of calm in a section of Haiti rife with gang activity.  Grand Ravine is a “red zone,” the label international forces give to the country’s most violence-prone areas. In December 2016, Grand Ravine’s most powerful gang leader, Junior Decimus, was arrested at the airport when he attempted to travel abroad. Soon after, according to a report by local rights organization Justice and Peace, an armed conflict began as others sought to consolidate control of the neighborhood. “Bursts of automatic weapons sang during the day, while police officers from the nearby station watched helplessly,” according to a hard copy of the organization’s report.  In October, the month before the police raid, groups of armed youth set up roadblocks, robbing cars in plain sight as they passed.  “The official narrative is at odds with what the people of Grand Ravine say they witnessed and experienced.”  The same month, thousands of U.N. soldiers stationed in the country since the 2004 coup d’etat withdrew. Brought to Haiti to restore “stability,” the foreign troops have been involved in multiple deadly raids into neighborhoods similar to Grand Ravine. The international community has spent hundreds of millions training the Haitian police for the U.N.’s eventual departure.  The U.N. Stabilization Mission in Haiti ended its mandate in October, but the U.N. is by no means gone. In place of troops, the U.N. created a smaller successor mission composed of a few thousand police officers. In early November, together with the local police force responsible for the capital, that new U.N. mission helped plan the anti-gang raid into Grand Ravine.  The November 13 raid was one of the first major acts involving the new mission, and the response will define the future of the U.N.’s relationship with the people of Grand Ravine — and the success of the newly empowered local police force.  At 6:30 on that mid-November morning, Armand Louis received a phone call from Maranatha College, the school he has directed for the last 30 years. Something was wrong. The police raid had spilled onto the school’s campus.  When he arrived nearly two hours later, tear gas was already being employed by police, according to an investigation by the National Network of Human Rights Defenders, a local human rights organization known by its French acronym, RNDDH, and confirmed in an interview with Louis. The following account is based on Intercept interviews with multiple witnesses, whose recollections mirror those included in RNDDH’s subsequent report on the massacre.  Police opened and searched classrooms, ransacking them in an apparent attempt to locate gang members hiding on campus. They didn’t find any.  There was a brief period of calm. People still on campus gave water to police. The burning in their eyes from the tear gas subsided.  An hour later, Louis said, the school’s guard, Julio Fongene, approached him and said that a number of gang members had threatened him and were hiding in a storage facility on campus. Louis informed the police.  “The campus is a refuge, an oasis of calm in a section of Haiti rife with gang activity.”  When officers attempted to dislodge the hiding gang members, two police officers were shot. The gang members fled. It does not appear that any were apprehended, as the police have not made public any arrests of those responsible for shooting the officers.  U.N. units composed of police from Jordan and Senegal responded to reports of shots fired and arrived at the school. According to the U.N., they administered first aid to the injured police officers and secured the perimeter.  But on campus grounds, Haitian police proceeded to punish the bystanders caught up in the violence.  First, they shot and killed Fongene, the guard, witnesses said.  Police then accused Louis of setting them up. They dragged him into the central courtyard, where some faculty members and people who live on campus were present. The officers beat him with a chair, causing significant injuries to his head and torso. The Protestant Evangelical Baptist Mission of Haiti, affiliated with the school, included an account of the beating in its statement describing the events, and it was confirmed in an interview with Louis and in the RNDDH report.  Faculty tried to intervene. David Jean Baptiste, a professor, was beaten and then shot five times, including a bullet to the head. The courtyard grounds where he died remained bloodstained for days after.  Vanel Danger lives on the school’s campus and is responsible for the cafeteria. He told The Intercept that an officer put a gun to his head and threatened to pull out his teeth if he didn’t cooperate. Danger dropped to his knees and begged for his life. Danger told the officer he had given him water just an hour earlier, RNDDH reported. Danger was spared. But many more weren’t so lucky.  Louis, bloody and beaten, told The Intercept he was handcuffed by an officer in a U.N. uniform and hauled off to jail.  When the police finally left the campus, around 11 a.m., nine civilians lay dead in the courtyard — five of whom had been shot in the head. Not a single firearm was recovered, suggesting that the killings were “summary executions,” RNDDH reported.  The bodies were not removed until the next afternoon.  Four days after the raid, the alleys that weave around the campus and through the neighborhood’s hilly landscape were largely deserted. Groups of young kids watched us from rooftops. Darting eyes peering from behind small openings in concrete homes followed us throughout the neighborhood.  Very few of them wanted to speak.  “There are many more” victims of this and other shootings, a local resident and student at the school explained. “They are afraid,” added the student, whose name The Intercept is withholding out of concern for their safety.  Though the anti-gang raid ended with a schoolyard massacre, questions linger about what happened outside the campus, where the raid began. At first, the police acknowledged seven civilian deaths — all of which occurred at the school. Overall, the police made 32 arrests, but haven’t acknowledged any deaths outside of the school.  But in its investigation, RNDDH concluded that one of the people found dead on campus had been pulled out of his house in the surrounding neighborhood that morning and brought to the school only after his death.  The total death toll remains unknown.  “Haitian police punished the bystanders caught up in the violence.”  Doresne Jean, director of the Saint Claire morgue in downtown Port-au-Prince, said that eight bodies had arrived from Grand Ravine on Tuesday, the day after the raid — more than the police originally acknowledged. But Jean said there were surely more.  “Maybe the police moved some bodies,” Jean said, “because we had five or six people come here to ask if we had their relatives.” They were not on the list of bodies already received.  Justice and Peace, the local human rights organization that has been monitoring violence in neighborhoods such as Grand Ravine, was one of the first to investigate the massacre. Rovelsond Apollon, an observer there, said his organization had confirmed 12 dead, but that the real total would likely never be known.  Not that many people, even in Haiti, are paying attention to what happens in Grand Ravine. “A hundred or even 200 could die there and nobody would know,” Apollon said.  I don't know how I am going to live without my son,” Gina Napolean told us from the school’s courtyard, the grief visible on her face just four days after the massacre. Her only son, 22-year-old Kens Napoleon, had been the family’s breadwinner. He was killed by a shot to the head. She put the blame squarely on the government, who she accused of “sending the police to kill our children.”  It’s not just that politicians exert control over the police, Apollon said — they are involved with the gangs themselves. His organization has interviewed young people with heavy weaponry that is not easy to acquire, he explained, and they said the weapons had been provided by politicians. “Politicians and authorities are not innocent in what happened, because they, too, play their part in the violence,” he said. The politicians, for their part, have not publicly addressed these accusations.  But since the raid, nearly every government official or institution has avoided taking responsibility.  Asked about the raid, the police chief simply said it was planned by the local captain and the new U.N. mission. Prime Minister Jack Guy Lafontant told the press that the specifics of field operations were outside his purview. Both blamed poor planning for the bloodshed.  The operation was compromised from the beginning. Police officers told local human rights investigators that confidential information about the operation was circulating even before it took place.  A former Haitian military official later told me that he found out about the raid when he heard it being discussed on an open radio channel on November 12, the day before it was launched. A gang leader later called in to a local radio show, alleging that a rival gang from a different neighborhood had participated with police in the raid itself. Others have suggested the raid was an attempt to recover a cache of guns that authorities had distributed in the neighborhood weeks earlier. And so the rumor mill in Haiti churns.  The U.N.’s statement — that its officers were stationed only at the perimeter of the school — contradicts the statements made by Louis, who told me he was handcuffed by a U.N. agent on campus. The U.N. insists that it was uninvolved because its officers were not in the courtyard, but the entrance where they say they were stationed is set just below the scene of the massacre.  The new U.N. mission is ostensibly focused on justice, but Apollon noted that Haiti has seen many international missions throughout its history. “They all failed,” he said, because they do not understand the Haitian reality.  In Haiti, he said, impunity reigns.  “David Jean Baptiste, a professor, was beaten and then shot five times, including a bullet to the head.”  Nearly two months after the massacre, no one has been publicly held responsible. The police inspector general has completed an investigation and passed it on to a judge, who could order the arrest or dismissal of officers involved. One police officer accused of involvement is already missing, according to the inspector general. Families of nine victims, including those of the two police officers, received a one-time payment of about $1,500 for funeral expenses. But none of the intellectual authors of the botched raid appear to have been identified or questioned.  Instead, it was Louis, the school’s director, who was arrested for complicity in the death of the two police officers. After being publicly beaten with a chair at the school he had overseen for 30 years, Louis was held in a Port-au-Prince jail for more than a week.  Under pressure from religious organizations and the school’s faculty, Louis was eventually released for health reasons. But he still has not returned to the school.  “In a country like mine,” Louis wrote to me weeks later, “it is hard to take our leaders at their word.” That, he continued, was “why we need to know what the real motive [of the raid] was.” The public authorities have not yet interviewed him. Do “they really want everything to be investigated properly?” he said, “or was this all planned?”  Apollon said continued raids would do little to address the fundamental problems afflicting neighborhoods such as Grand Ravine. Rather, violence stems from the total absence of the state in such areas, and it will continue so long as the population’s needs are not met. What residents need, he said, “is education.”  After the raid, the school was closed for two weeks.  “We need school,” a student at Maranatha told me that day in the courtyard. “Without education, what hope do we have?”  This article previously appeared in The Intercept.\", '2018-01-25 16:17:44.789555', '2018-02-02 01:19:41.756632', '2018-02-02 01:19:41.756664', 'UN-Backed Police Massacred Haitians With Impunity', 'Akinyele Umoja, Glen Ford, Bar Executive Editor, Margaret Kimberley, Bar Editor, Senior Columnist, Danny Haiphong, Bar Contributor, Ann Garrison, Ken Morgan', '', \"['']\", \"“When the police finally left the campus, around 11 a.m., nine civilians lay dead in the courtyard — five of whom had been shot in the head.” At 5 o'clock on the morning of November 13, more than 200 Haitian police officers raided the Grand Ravine area of Port-au-Prince. There was a series of loud explosions, followed by gunfire. For the next six hours, the commotion didn’t stop. The neighborhood was under siege.\", '', '', '', 7234436116389330944)\n",
      "('7', '13', 'blackagendareport.com', 'unreliable', 'https://blackagendareport.com/articlelist/international/radio', 'It should have come as no surprise that the same “rebels” the US supported in its 2011 war against Libya are now selling Blacks into slavery at auction, said Robin Philpot, who pub', '2018-01-25 16:17:44.789555', '2018-02-02 01:19:41.756632', '2018-02-02 01:19:41.756664', 'Black Agenda Report', 'Nellie Bailey, Glen Ford, Margaret Kimberley, Bar Editor, Senior Columnist, Glen Ford For The Real News Network', '', \"['']\", '', '', '', '', -7619633641272866816)\n",
      "('8', '14', 'blackagendareport.com', 'unreliable', 'https://blackagendareport.com/articlelist/international/articlelist', '“When the police finally left the campus, around 11 a.m., nine civilians lay dead in the courtyard — five of whom had been shot in the head.”', '2018-01-25 16:17:44.789555', '2018-02-02 01:19:41.756632', '2018-02-02 01:19:41.756664', 'Black Agenda Report', 'Ann Garrison, Bar Contributor, Ken Morgan, Jemima Pierre, Alan Wald, Margaret Kimberley, Bar Editor, Senior Columnist, Ajamu Baraka, Daniel Zamora', '', \"['']\", '', '', '', '', -1440288210006763520)\n",
      "('9', '15', 'blackagendareport.com', 'unreliable', 'https://blackagendareport.com/zambia-must-clarify-whether-it-will-host-israel-africa-summit', 'Zambia Must Clarify Whether It Will Host Israel-Africa Summit  “Israel since 1948 has collaborated with the same white supremacist forces which conquered, exploited and oppressed African people and their descendants throughout the world.”  Several news articles were published in early December indicating that Zambian President Edgar Lungu has agreed to host a summit meeting between African Union (AU) member-states and the State of Israel. (See Jerusalem Post, Dec. 3, 2017)  These reports first surfaced during the inauguration ceremony for Kenyan President Uhuru Kenyatta in Nairobi. President Lungu attended the second induction into office of Kenyatta who is the leader of East Africa’s largest economy.  Lungu met with Israeli Prime Minister Benjamin Netanyahu on the sidelines of the Kenyatta inauguration events. The Zambian leader was photographed shaking hands with Netanyahu during the meeting.  A similar summit was scheduled earlier in 2017 in the West African state of Togo. However, mass demonstrations by Togolese opposition parties and coalitions demanding the resignation of the government of President Faure Gnassingbe for undemocratic practices, forced Lome to postpone the announced summit.  “The Zambian leader was photographed shaking hands with Netanyahu during the meeting.”  Zambia’s largest newspaper the Times reported on December 5 that: “President Edgar Lungu, who met Israeli Prime Minister Benjamin Netanyahu last week at the re-inauguration ceremonies for Kenyan President Uhuru Kenyatta in Nairobi, told ZNBC that ‘For whatever reason, we have been given the mandate to host this summit which will bring its own benefits to Zambia.’ President Lungu said Prime Minister Netanyahu had asked Zambia to host an Africa-Israel summit that was originally scheduled for Togo in September.”  Despite this claim of mystification by President Lungu, it is quite obvious that there were definite reasons why Zambia was targeted to host the meeting. The Southern African state is one of the few countries within the AU which has a military attache stationed in Israel where it opened an embassy in 2015. Israel does not have an embassy in Zambia.  Lungu paid a state visit to Israel in February 2017. The president was accompanied by a large delegation of ministers from his administration.  After his return to Zambia, Lungu was quoted in the Times as saying: “Israel is a pacesetter in survival instinct because it has a desert; but they have a thriving education, agriculture and information and communication technology sectors and we can explore and learn from them. A lot of benefits are expected out of this trip.”  “Zambia is one of the few countries within the AU which has a military attache stationed in Israel where it opened an embassy in 2015.”  Unfortunately, no statement was recorded in the same publication which cites the plight of the Palestinian people who share a similar history with Africans as it relates to colonialism and imperialism. Israel under successive leaders since 1948 has collaborated with the same white supremacist forces which conquered, exploited and oppressed African people and their descendants throughout the world.  The Times then quoted Israeli Prime Minister Benjamin Netanyahu while he was in Kenya for the inauguration of Kenyatta as emphasizing in regard to Zambia that Tel Aviv’s aim was to: “deepen its cooperation with the country, which I think is important for both our countries and both our peoples. I know that you’re opening a Jewish history museum in Zambia and soon a synagogue in the capital city. I hope one day I have the opportunity to visit those institutions and to visit Zambia.”  Africa and Israel: A comparative history  Although Jewish people were subjected to national discrimination in Europe and the United States during the 19th and 20th centuries, today since the recognition of the State of Israel by the United Nations in May 1948 most people do not consider them to be an oppressed people. However, it is important to make a distinction between Judaism as a religion and Zionism as an ideology and political movement.  In fact when the founders of the World Zionist movement began in the later years of the 19th century, its leaders specifically sought to align themselves with the rising tide of colonialism throughout Asia and Africa. During the early phase of the Zionist movement Palestine was not the only location examined for the establishment of a Jewish state. (See Weizmann and Smuts: A Study in Zionist-South African Cooperation. Institute for Palestine Studies Monograph No. 43, 1975)  Other areas considered by the Zionists included territories in Africa such as modern-day Madagascar, Uganda and Libya. By 1917, British Foreign Secretary Lord Balfour issued his famous declaration which mandated the creation of a state for the Jewish and Arab peoples in the-then colony of Palestine. Most historical literature on this territory prior to 1948 referred to the area as Palestine. (https://www.globalresearch.ca/palestine-israeli-foreign-policy-and-the-pan-african-movement/5333199 [2])  Nevertheless, when the State of Israel was recognized by the UN it was done so as exclusively a Jewish state where millions of Palestinians had been forcibly removed and disenfranchised. In 1948, the UN was dominated by the European colonial powers and the U.S. The Soviet Union, whose military had made the greatest contribution to breaking the expansionist program of the Third Reich under Adolph Hitler, also voted in the UN to recognize the Jewish state in Palestine.  “Palestine was not the only location examined for the establishment of a Jewish state.”  The overwhelming number of colonies in Africa did not gain their independence from European imperialism until after World War II with the upsurge of national liberation movements in Sudan, the Gold Coast (Ghana), Algeria, Tunisia, Kenya, Angola, Southern Rhodesia (Zimbabwe), Northern Rhodesia (Zambia), Southwest Africa (Namibia), etc. After the century-long existence of the Atlantic Slave Trade which uprooted millions of Africans from the continent to Europe, North America, Central America, the Caribbean and South America, the advent of classic colonialism was imposed on the continent.  During 1884-85, the Berlin West Africa Conference was held in Germany. This gathering carved up Africa among the imperialist powers. It would take over a century to bring about the independence of the continent with the Republic of South Africa overthrowing the racist apartheid system in 1994. At present only the Western Sahara, the Sahrawi Arab Democratic Republic (SADR), remains under the colonial control of the North African monarchy of Morocco.  Africa and Palestine solidarity  After the 1956 Suez Canal war when Britain, France and Israel invaded Egypt under President Gamal Abdel Nasser in order to retake control of this strategic asset, the political sympathy of most African states has shifted solidly in the direction of the Palestinian and other Arab people.  Later, as a result of the Egypt-Jordan-Syria wars with Israel in 1967 and 1973, a majority of independent African governments and national liberation movements broke relations with Israel. The Palestine Liberation Organization (PLO) is viewed by progressive forces throughout Africa as the de facto representatives of the people. After the signing of the Oslo Accords between Israel and the PLO in 1993, which gave rise to the Palestinian Authority, there has been a period of thawing relations between Tel Aviv and some African states.  However, African solidarity with Palestine remains strong. The Republic of South Africa under the ruling African National Congress (ANC) continues to be a bulwark of sentiment in favor of the recognition of an independent Palestinian state. This mood has existed in Zimbabwe as well during the 37-year presidency of Robert Mugabe, the former leader of the Zimbabwe African National Union Patriotic Front Party (ZANU-PF).  “After the signing of the Oslo Accords there has been a period of thawing relations between Tel Aviv and some African states.”  When on December 6 U.S. President Donald Trump issued his executive order to move the American embassy from Tel Aviv to Jerusalem mass demonstrations in solidarity with the Palestinian people have been held throughout the world. The three leading alliance partners in South Africa, the ANC, South African Communist Party (SACP) and the Congress of South African Trade Unions (COSATU) have all issued statements decrying the policy decisions of Trump.  The U.S. government is the staunchest supporter of the State of Israel providing billions of dollars in assistance and military hardware on an annual basis. Egypt, due to military and political considerations ranks as the second largest recipient of direct aid from Washington. However, Africa as a whole can in no way compare to the economic, military and diplomatic support which is received by Israel irrespective of the fact that people of African descent in the U.S. are numbered in excess of 40 million inhabitants.  Consequently, the holding of an Israel-Africa Summit in Zambia would represent a tremendous setback in the progressive legacy of independent states on the continent. At this critical stage in international relations AU member countries should be intensifying their cooperation with other fraternal governments and peoples on the continent and indeed throughout the world.  Abayomi Azikiwe is the editor of Pan Africa News Wire.', '2018-01-25 16:17:44.789555', '2018-02-02 01:19:41.756632', '2018-02-02 01:19:41.756664', 'Zambia Must Clarify Whether It Will Host Israel-Africa Summit', 'Glen Ford, Bar Executive Editor, Margaret Kimberley, Bar Editor, Senior Columnist, Danny Haiphong, Bar Contributor, Ann Garrison, Ken Morgan', '', \"['']\", '“Israel since 1948 has collaborated with the same white supremacist forces which conquered, exploited and oppressed African people and their descendants throughout the world.” Several news articles were published in early December indicating that Zambian President Edgar Lungu has agreed to host a summit meeting between African Union (AU) member-states and the State of Israel. (See Jerusalem Post, Dec. 3, 2017)', '', '', '', -8673710355772528640)\n"
     ]
    }
   ],
   "source": [
    "res = db.execute(\"SELECT * FROM data LIMIT 10\")\n",
    "for row in res:\n",
    "    print(row)"
   ]
  },
  {
   "attachments": {},
   "cell_type": "markdown",
   "metadata": {},
   "source": [
    "## Summary statistics"
   ]
  },
  {
   "attachments": {},
   "cell_type": "markdown",
   "metadata": {},
   "source": [
    "### How many of each type?"
   ]
  },
  {
   "attachments": {},
   "cell_type": "markdown",
   "metadata": {},
   "source": [
    "We first need to retrieve the requested data from the database."
   ]
  },
  {
   "cell_type": "code",
   "execution_count": 20,
   "metadata": {},
   "outputs": [
    {
     "data": {
      "text/html": [
       "<div>\n",
       "<style scoped>\n",
       "    .dataframe tbody tr th:only-of-type {\n",
       "        vertical-align: middle;\n",
       "    }\n",
       "\n",
       "    .dataframe tbody tr th {\n",
       "        vertical-align: top;\n",
       "    }\n",
       "\n",
       "    .dataframe thead th {\n",
       "        text-align: right;\n",
       "    }\n",
       "</style>\n",
       "<table border=\"1\" class=\"dataframe\">\n",
       "  <thead>\n",
       "    <tr style=\"text-align: right;\">\n",
       "      <th></th>\n",
       "      <th>COUNT(type)</th>\n",
       "      <th>type</th>\n",
       "    </tr>\n",
       "  </thead>\n",
       "  <tbody>\n",
       "    <tr>\n",
       "      <th>0</th>\n",
       "      <td>403211</td>\n",
       "      <td></td>\n",
       "    </tr>\n",
       "    <tr>\n",
       "      <th>1</th>\n",
       "      <td>1138998</td>\n",
       "      <td>bias</td>\n",
       "    </tr>\n",
       "    <tr>\n",
       "      <th>2</th>\n",
       "      <td>231949</td>\n",
       "      <td>clickbait</td>\n",
       "    </tr>\n",
       "    <tr>\n",
       "      <th>3</th>\n",
       "      <td>831235</td>\n",
       "      <td>conspiracy</td>\n",
       "    </tr>\n",
       "    <tr>\n",
       "      <th>4</th>\n",
       "      <td>894746</td>\n",
       "      <td>fake</td>\n",
       "    </tr>\n",
       "    <tr>\n",
       "      <th>5</th>\n",
       "      <td>76496</td>\n",
       "      <td>hate</td>\n",
       "    </tr>\n",
       "    <tr>\n",
       "      <th>6</th>\n",
       "      <td>117467</td>\n",
       "      <td>junksci</td>\n",
       "    </tr>\n",
       "    <tr>\n",
       "      <th>7</th>\n",
       "      <td>1657224</td>\n",
       "      <td>political</td>\n",
       "    </tr>\n",
       "    <tr>\n",
       "      <th>8</th>\n",
       "      <td>1913222</td>\n",
       "      <td>reliable</td>\n",
       "    </tr>\n",
       "    <tr>\n",
       "      <th>9</th>\n",
       "      <td>481158</td>\n",
       "      <td>rumor</td>\n",
       "    </tr>\n",
       "    <tr>\n",
       "      <th>10</th>\n",
       "      <td>112948</td>\n",
       "      <td>satire</td>\n",
       "    </tr>\n",
       "    <tr>\n",
       "      <th>11</th>\n",
       "      <td>371518</td>\n",
       "      <td>unknown</td>\n",
       "    </tr>\n",
       "    <tr>\n",
       "      <th>12</th>\n",
       "      <td>298784</td>\n",
       "      <td>unreliable</td>\n",
       "    </tr>\n",
       "  </tbody>\n",
       "</table>\n",
       "</div>"
      ],
      "text/plain": [
       "    COUNT(type)        type\n",
       "0        403211            \n",
       "1       1138998        bias\n",
       "2        231949   clickbait\n",
       "3        831235  conspiracy\n",
       "4        894746        fake\n",
       "5         76496        hate\n",
       "6        117467     junksci\n",
       "7       1657224   political\n",
       "8       1913222    reliable\n",
       "9        481158       rumor\n",
       "10       112948      satire\n",
       "11       371518     unknown\n",
       "12       298784  unreliable"
      ]
     },
     "execution_count": 20,
     "metadata": {},
     "output_type": "execute_result"
    }
   ],
   "source": [
    "# Convert the data to a dataframe\n",
    "df = pd.read_sql_query(\"SELECT COUNT(type), type FROM data GROUP BY type\", db)\n",
    "df"
   ]
  },
  {
   "cell_type": "code",
   "execution_count": 6,
   "metadata": {},
   "outputs": [
    {
     "data": {
      "text/plain": [
       "8528956"
      ]
     },
     "execution_count": 6,
     "metadata": {},
     "output_type": "execute_result"
    }
   ],
   "source": [
    "# Total articles\n",
    "df['COUNT(type)'].sum()"
   ]
  },
  {
   "attachments": {},
   "cell_type": "markdown",
   "metadata": {},
   "source": [
    "Since the first row contains all the \"missing\" types we will rename the type in the first row to \"missing\". We will also rename the columns to be a bit more readable."
   ]
  },
  {
   "cell_type": "code",
   "execution_count": 21,
   "metadata": {},
   "outputs": [],
   "source": [
    "# Rename columns\n",
    "df.rename(columns={\"COUNT(type)\": \"count\", \"type\": \"type\"}, inplace=True)\n",
    "\n",
    "# Change the firs row so that the type is missing\n",
    "df.loc[0, \"type\"] = \"missing\""
   ]
  },
  {
   "cell_type": "code",
   "execution_count": 22,
   "metadata": {},
   "outputs": [],
   "source": [
    "# Sort in descending order\n",
    "df.sort_values(by=\"count\", ascending=False, inplace=True)"
   ]
  },
  {
   "cell_type": "code",
   "execution_count": null,
   "metadata": {},
   "outputs": [],
   "source": [
    "# Save into seperate variable\n",
    "df_articles = df.copy()"
   ]
  },
  {
   "cell_type": "code",
   "execution_count": 24,
   "metadata": {},
   "outputs": [
    {
     "data": {
      "text/plain": [
       "Text(0.5, 1.0, 'Number of articles per type')"
      ]
     },
     "execution_count": 24,
     "metadata": {},
     "output_type": "execute_result"
    },
    {
     "data": {
      "image/png": "[encoded data removed]",
      "text/plain": [
       "<Figure size 600x400 with 1 Axes>"
      ]
     },
     "metadata": {},
     "output_type": "display_data"
    }
   ],
   "source": [
    "# Lets now plot the data\n",
    "plt.figure(figsize=(6, 4))\n",
    "sns.set_style(\"whitegrid\")\n",
    "sns.barplot(x=\"type\", y=\"count\", data=df)\n",
    "plt.xticks(rotation=45)\n",
    "plt.title(\"Number of articles per type\")"
   ]
  },
  {
   "attachments": {},
   "cell_type": "markdown",
   "metadata": {},
   "source": [
    "We see that the the most prolific category is reliable, followed by political. These two are far ahead of the rest of the types. Here we also notice that *403211* articles are missing their type. "
   ]
  },
  {
   "attachments": {},
   "cell_type": "markdown",
   "metadata": {},
   "source": [
    "### Articles pr. domain"
   ]
  },
  {
   "cell_type": "code",
   "execution_count": 25,
   "metadata": {},
   "outputs": [
    {
     "data": {
      "text/html": [
       "<div>\n",
       "<style scoped>\n",
       "    .dataframe tbody tr th:only-of-type {\n",
       "        vertical-align: middle;\n",
       "    }\n",
       "\n",
       "    .dataframe tbody tr th {\n",
       "        vertical-align: top;\n",
       "    }\n",
       "\n",
       "    .dataframe thead th {\n",
       "        text-align: right;\n",
       "    }\n",
       "</style>\n",
       "<table border=\"1\" class=\"dataframe\">\n",
       "  <thead>\n",
       "    <tr style=\"text-align: right;\">\n",
       "      <th></th>\n",
       "      <th>COUNT(domain)</th>\n",
       "      <th>domain</th>\n",
       "    </tr>\n",
       "  </thead>\n",
       "  <tbody>\n",
       "    <tr>\n",
       "      <th>0</th>\n",
       "      <td>97</td>\n",
       "      <td>100percentfedup.com</td>\n",
       "    </tr>\n",
       "    <tr>\n",
       "      <th>1</th>\n",
       "      <td>1</td>\n",
       "      <td>16wmpo.com</td>\n",
       "    </tr>\n",
       "    <tr>\n",
       "      <th>2</th>\n",
       "      <td>19897</td>\n",
       "      <td>21stcenturywire.com</td>\n",
       "    </tr>\n",
       "    <tr>\n",
       "      <th>3</th>\n",
       "      <td>267</td>\n",
       "      <td>21wire.tv</td>\n",
       "    </tr>\n",
       "    <tr>\n",
       "      <th>4</th>\n",
       "      <td>5394</td>\n",
       "      <td>4threvolutionarywar.wordpress.com</td>\n",
       "    </tr>\n",
       "    <tr>\n",
       "      <th>...</th>\n",
       "      <td>...</td>\n",
       "      <td>...</td>\n",
       "    </tr>\n",
       "    <tr>\n",
       "      <th>730</th>\n",
       "      <td>10620</td>\n",
       "      <td>yournewswire.com</td>\n",
       "    </tr>\n",
       "    <tr>\n",
       "      <th>731</th>\n",
       "      <td>2672</td>\n",
       "      <td>zeenews.india.com</td>\n",
       "    </tr>\n",
       "    <tr>\n",
       "      <th>732</th>\n",
       "      <td>1</td>\n",
       "      <td>zengardner.com</td>\n",
       "    </tr>\n",
       "    <tr>\n",
       "      <th>733</th>\n",
       "      <td>36533</td>\n",
       "      <td>zerohedge.com</td>\n",
       "    </tr>\n",
       "    <tr>\n",
       "      <th>734</th>\n",
       "      <td>166</td>\n",
       "      <td>zootfeed.com</td>\n",
       "    </tr>\n",
       "  </tbody>\n",
       "</table>\n",
       "<p>735 rows × 2 columns</p>\n",
       "</div>"
      ],
      "text/plain": [
       "     COUNT(domain)                             domain\n",
       "0               97                100percentfedup.com\n",
       "1                1                         16wmpo.com\n",
       "2            19897                21stcenturywire.com\n",
       "3              267                          21wire.tv\n",
       "4             5394  4threvolutionarywar.wordpress.com\n",
       "..             ...                                ...\n",
       "730          10620                   yournewswire.com\n",
       "731           2672                  zeenews.india.com\n",
       "732              1                     zengardner.com\n",
       "733          36533                      zerohedge.com\n",
       "734            166                       zootfeed.com\n",
       "\n",
       "[735 rows x 2 columns]"
      ]
     },
     "execution_count": 25,
     "metadata": {},
     "output_type": "execute_result"
    }
   ],
   "source": [
    "df = pd.read_sql_query(\"SELECT COUNT(domain), domain FROM data GROUP BY domain\", db)\n",
    "df"
   ]
  },
  {
   "cell_type": "code",
   "execution_count": 26,
   "metadata": {},
   "outputs": [],
   "source": [
    "# Rename columns\n",
    "df.rename(columns={\"COUNT(domain)\": \"count\", \"domain\": \"domain\"}, inplace=True)\n",
    "\n",
    "# Sort in descending order\n",
    "df.sort_values(by=\"count\", ascending=False, inplace=True)\n",
    "\n",
    "# Select the 10 most common domains\n",
    "df = df.iloc[:10]"
   ]
  },
  {
   "cell_type": "code",
   "execution_count": 27,
   "metadata": {},
   "outputs": [
    {
     "data": {
      "text/plain": [
       "Text(0.5, 1.0, 'Number of articles per domain')"
      ]
     },
     "execution_count": 27,
     "metadata": {},
     "output_type": "execute_result"
    },
    {
     "data": {
      "image/png": "[encoded data removed]",
      "text/plain": [
       "<Figure size 600x400 with 1 Axes>"
      ]
     },
     "metadata": {},
     "output_type": "display_data"
    }
   ],
   "source": [
    "# Lets now plot the data\n",
    "plt.figure(figsize=(6, 4))\n",
    "sns.set_style(\"whitegrid\")\n",
    "# Angled x labels\n",
    "plt.xticks(rotation=45)\n",
    "sns.barplot(x=\"domain\", y=\"count\", data=df)\n",
    "plt.title(\"Number of articles per domain\")"
   ]
  },
  {
   "cell_type": "code",
   "execution_count": null,
   "metadata": {},
   "outputs": [],
   "source": [
    "# Save into its own variable\n",
    "df_domains = df.copy()"
   ]
  },
  {
   "cell_type": "code",
   "execution_count": 31,
   "metadata": {},
   "outputs": [
    {
     "data": {
      "image/png": "[encoded data removed]",
      "text/plain": [
       "<Figure size 1200x400 with 2 Axes>"
      ]
     },
     "metadata": {},
     "output_type": "display_data"
    }
   ],
   "source": [
    "# Lets ombine the two plots side by side\n",
    "fig, (ax1, ax2) = plt.subplots(1, 2, figsize=(12, 4))\n",
    "ax1.plot(\n",
    "    \n",
    ")"
   ]
  },
  {
   "attachments": {},
   "cell_type": "markdown",
   "metadata": {},
   "source": [
    "## Non trivial observations"
   ]
  },
  {
   "attachments": {},
   "cell_type": "markdown",
   "metadata": {},
   "source": [
    "### Top contributors"
   ]
  },
  {
   "cell_type": "code",
   "execution_count": 8,
   "metadata": {},
   "outputs": [
    {
     "data": {
      "text/html": [
       "<div>\n",
       "<style scoped>\n",
       "    .dataframe tbody tr th:only-of-type {\n",
       "        vertical-align: middle;\n",
       "    }\n",
       "\n",
       "    .dataframe tbody tr th {\n",
       "        vertical-align: top;\n",
       "    }\n",
       "\n",
       "    .dataframe thead th {\n",
       "        text-align: right;\n",
       "    }\n",
       "</style>\n",
       "<table border=\"1\" class=\"dataframe\">\n",
       "  <thead>\n",
       "    <tr style=\"text-align: right;\">\n",
       "      <th></th>\n",
       "      <th>COUNT(type)</th>\n",
       "      <th>type</th>\n",
       "      <th>domain</th>\n",
       "    </tr>\n",
       "  </thead>\n",
       "  <tbody>\n",
       "    <tr>\n",
       "      <th>0</th>\n",
       "      <td>107420</td>\n",
       "      <td></td>\n",
       "      <td>www.newsmax.com</td>\n",
       "    </tr>\n",
       "    <tr>\n",
       "      <th>1</th>\n",
       "      <td>95141</td>\n",
       "      <td>bias</td>\n",
       "      <td>pravda.ru</td>\n",
       "    </tr>\n",
       "    <tr>\n",
       "      <th>2</th>\n",
       "      <td>318745</td>\n",
       "      <td>bias</td>\n",
       "      <td>sputniknews.com</td>\n",
       "    </tr>\n",
       "    <tr>\n",
       "      <th>3</th>\n",
       "      <td>238622</td>\n",
       "      <td>conspiracy</td>\n",
       "      <td>abovetopsecret.com</td>\n",
       "    </tr>\n",
       "    <tr>\n",
       "      <th>4</th>\n",
       "      <td>781009</td>\n",
       "      <td>fake</td>\n",
       "      <td>beforeitsnews.com</td>\n",
       "    </tr>\n",
       "    <tr>\n",
       "      <th>5</th>\n",
       "      <td>660626</td>\n",
       "      <td>political</td>\n",
       "      <td>dailykos.com</td>\n",
       "    </tr>\n",
       "    <tr>\n",
       "      <th>6</th>\n",
       "      <td>319556</td>\n",
       "      <td>political</td>\n",
       "      <td>nationalreview.com</td>\n",
       "    </tr>\n",
       "    <tr>\n",
       "      <th>7</th>\n",
       "      <td>1542685</td>\n",
       "      <td>reliable</td>\n",
       "      <td>nytimes.com</td>\n",
       "    </tr>\n",
       "    <tr>\n",
       "      <th>8</th>\n",
       "      <td>477264</td>\n",
       "      <td>rumor</td>\n",
       "      <td>express.co.uk</td>\n",
       "    </tr>\n",
       "    <tr>\n",
       "      <th>9</th>\n",
       "      <td>199031</td>\n",
       "      <td>unreliable</td>\n",
       "      <td>wikileaks.org</td>\n",
       "    </tr>\n",
       "  </tbody>\n",
       "</table>\n",
       "</div>"
      ],
      "text/plain": [
       "   COUNT(type)        type              domain\n",
       "0       107420                 www.newsmax.com\n",
       "1        95141        bias           pravda.ru\n",
       "2       318745        bias     sputniknews.com\n",
       "3       238622  conspiracy  abovetopsecret.com\n",
       "4       781009        fake   beforeitsnews.com\n",
       "5       660626   political        dailykos.com\n",
       "6       319556   political  nationalreview.com\n",
       "7      1542685    reliable         nytimes.com\n",
       "8       477264       rumor       express.co.uk\n",
       "9       199031  unreliable       wikileaks.org"
      ]
     },
     "execution_count": 8,
     "metadata": {},
     "output_type": "execute_result"
    }
   ],
   "source": [
    "# Get the type counts of the 10 most common domains\n",
    "df = pd.read_sql_query(\n",
    "    \"\"\"SELECT COUNT(type), type, domain FROM data \n",
    "        WHERE domain IN \n",
    "        (SELECT domain FROM data GROUP BY domain ORDER BY COUNT(domain) DESC LIMIT 10) \n",
    "        GROUP BY type, domain\n",
    "    \"\"\", db)\n",
    "df"
   ]
  },
  {
   "cell_type": "code",
   "execution_count": 11,
   "metadata": {},
   "outputs": [
    {
     "data": {
      "text/html": [
       "<div>\n",
       "<style scoped>\n",
       "    .dataframe tbody tr th:only-of-type {\n",
       "        vertical-align: middle;\n",
       "    }\n",
       "\n",
       "    .dataframe tbody tr th {\n",
       "        vertical-align: top;\n",
       "    }\n",
       "\n",
       "    .dataframe thead th {\n",
       "        text-align: right;\n",
       "    }\n",
       "</style>\n",
       "<table border=\"1\" class=\"dataframe\">\n",
       "  <thead>\n",
       "    <tr style=\"text-align: right;\">\n",
       "      <th></th>\n",
       "      <th>COUNT(type)</th>\n",
       "      <th>type</th>\n",
       "      <th>domain</th>\n",
       "    </tr>\n",
       "  </thead>\n",
       "  <tbody>\n",
       "    <tr>\n",
       "      <th>7</th>\n",
       "      <td>1542685</td>\n",
       "      <td>reliable</td>\n",
       "      <td>nytimes.com</td>\n",
       "    </tr>\n",
       "    <tr>\n",
       "      <th>4</th>\n",
       "      <td>781009</td>\n",
       "      <td>fake</td>\n",
       "      <td>beforeitsnews.com</td>\n",
       "    </tr>\n",
       "    <tr>\n",
       "      <th>5</th>\n",
       "      <td>660626</td>\n",
       "      <td>political</td>\n",
       "      <td>dailykos.com</td>\n",
       "    </tr>\n",
       "    <tr>\n",
       "      <th>8</th>\n",
       "      <td>477264</td>\n",
       "      <td>rumor</td>\n",
       "      <td>express.co.uk</td>\n",
       "    </tr>\n",
       "    <tr>\n",
       "      <th>6</th>\n",
       "      <td>319556</td>\n",
       "      <td>political</td>\n",
       "      <td>nationalreview.com</td>\n",
       "    </tr>\n",
       "    <tr>\n",
       "      <th>2</th>\n",
       "      <td>318745</td>\n",
       "      <td>bias</td>\n",
       "      <td>sputniknews.com</td>\n",
       "    </tr>\n",
       "    <tr>\n",
       "      <th>3</th>\n",
       "      <td>238622</td>\n",
       "      <td>conspiracy</td>\n",
       "      <td>abovetopsecret.com</td>\n",
       "    </tr>\n",
       "    <tr>\n",
       "      <th>9</th>\n",
       "      <td>199031</td>\n",
       "      <td>unreliable</td>\n",
       "      <td>wikileaks.org</td>\n",
       "    </tr>\n",
       "    <tr>\n",
       "      <th>0</th>\n",
       "      <td>107420</td>\n",
       "      <td></td>\n",
       "      <td>www.newsmax.com</td>\n",
       "    </tr>\n",
       "    <tr>\n",
       "      <th>1</th>\n",
       "      <td>95141</td>\n",
       "      <td>bias</td>\n",
       "      <td>pravda.ru</td>\n",
       "    </tr>\n",
       "  </tbody>\n",
       "</table>\n",
       "</div>"
      ],
      "text/plain": [
       "   COUNT(type)        type              domain\n",
       "7      1542685    reliable         nytimes.com\n",
       "4       781009        fake   beforeitsnews.com\n",
       "5       660626   political        dailykos.com\n",
       "8       477264       rumor       express.co.uk\n",
       "6       319556   political  nationalreview.com\n",
       "2       318745        bias     sputniknews.com\n",
       "3       238622  conspiracy  abovetopsecret.com\n",
       "9       199031  unreliable       wikileaks.org\n",
       "0       107420                 www.newsmax.com\n",
       "1        95141        bias           pravda.ru"
      ]
     },
     "execution_count": 11,
     "metadata": {},
     "output_type": "execute_result"
    }
   ],
   "source": [
    "# Sort in descending order\n",
    "df.sort_values(by=\"COUNT(type)\", ascending=False, inplace=True)\n",
    "df"
   ]
  },
  {
   "cell_type": "code",
   "execution_count": 13,
   "metadata": {},
   "outputs": [
    {
     "data": {
      "text/html": [
       "<div>\n",
       "<style scoped>\n",
       "    .dataframe tbody tr th:only-of-type {\n",
       "        vertical-align: middle;\n",
       "    }\n",
       "\n",
       "    .dataframe tbody tr th {\n",
       "        vertical-align: top;\n",
       "    }\n",
       "\n",
       "    .dataframe thead th {\n",
       "        text-align: right;\n",
       "    }\n",
       "</style>\n",
       "<table border=\"1\" class=\"dataframe\">\n",
       "  <thead>\n",
       "    <tr style=\"text-align: right;\">\n",
       "      <th></th>\n",
       "      <th>COUNT(DISTINCT domain)</th>\n",
       "    </tr>\n",
       "  </thead>\n",
       "  <tbody>\n",
       "    <tr>\n",
       "      <th>0</th>\n",
       "      <td>80</td>\n",
       "    </tr>\n",
       "  </tbody>\n",
       "</table>\n",
       "</div>"
      ],
      "text/plain": [
       "   COUNT(DISTINCT domain)\n",
       "0                      80"
      ]
     },
     "execution_count": 13,
     "metadata": {},
     "output_type": "execute_result"
    }
   ],
   "source": [
    "# Count the total number of unique domains that produce reliable articles\n",
    "df = pd.read_sql_query(\"SELECT COUNT(DISTINCT domain) FROM data WHERE type = 'reliable'\", db)\n",
    "df"
   ]
  },
  {
   "cell_type": "code",
   "execution_count": 14,
   "metadata": {},
   "outputs": [
    {
     "data": {
      "text/html": [
       "<div>\n",
       "<style scoped>\n",
       "    .dataframe tbody tr th:only-of-type {\n",
       "        vertical-align: middle;\n",
       "    }\n",
       "\n",
       "    .dataframe tbody tr th {\n",
       "        vertical-align: top;\n",
       "    }\n",
       "\n",
       "    .dataframe thead th {\n",
       "        text-align: right;\n",
       "    }\n",
       "</style>\n",
       "<table border=\"1\" class=\"dataframe\">\n",
       "  <thead>\n",
       "    <tr style=\"text-align: right;\">\n",
       "      <th></th>\n",
       "      <th>COUNT(domain)</th>\n",
       "      <th>domain</th>\n",
       "    </tr>\n",
       "  </thead>\n",
       "  <tbody>\n",
       "    <tr>\n",
       "      <th>0</th>\n",
       "      <td>8652</td>\n",
       "      <td>abcnews.go.com</td>\n",
       "    </tr>\n",
       "    <tr>\n",
       "      <th>1</th>\n",
       "      <td>5412</td>\n",
       "      <td>af.reuters.com</td>\n",
       "    </tr>\n",
       "    <tr>\n",
       "      <th>2</th>\n",
       "      <td>767</td>\n",
       "      <td>au.be.yahoo.com</td>\n",
       "    </tr>\n",
       "    <tr>\n",
       "      <th>3</th>\n",
       "      <td>1080</td>\n",
       "      <td>au.finance.yahoo.com</td>\n",
       "    </tr>\n",
       "    <tr>\n",
       "      <th>4</th>\n",
       "      <td>641</td>\n",
       "      <td>au.news.yahoo.com</td>\n",
       "    </tr>\n",
       "    <tr>\n",
       "      <th>...</th>\n",
       "      <td>...</td>\n",
       "      <td>...</td>\n",
       "    </tr>\n",
       "    <tr>\n",
       "      <th>75</th>\n",
       "      <td>5067</td>\n",
       "      <td>www.washingtonpost.com</td>\n",
       "    </tr>\n",
       "    <tr>\n",
       "      <th>76</th>\n",
       "      <td>807</td>\n",
       "      <td>www.wikihow.com</td>\n",
       "    </tr>\n",
       "    <tr>\n",
       "      <th>77</th>\n",
       "      <td>5546</td>\n",
       "      <td>www.wsj.com</td>\n",
       "    </tr>\n",
       "    <tr>\n",
       "      <th>78</th>\n",
       "      <td>22433</td>\n",
       "      <td>www.yahoo.com</td>\n",
       "    </tr>\n",
       "    <tr>\n",
       "      <th>79</th>\n",
       "      <td>2672</td>\n",
       "      <td>zeenews.india.com</td>\n",
       "    </tr>\n",
       "  </tbody>\n",
       "</table>\n",
       "<p>80 rows × 2 columns</p>\n",
       "</div>"
      ],
      "text/plain": [
       "    COUNT(domain)                  domain\n",
       "0            8652          abcnews.go.com\n",
       "1            5412          af.reuters.com\n",
       "2             767         au.be.yahoo.com\n",
       "3            1080    au.finance.yahoo.com\n",
       "4             641       au.news.yahoo.com\n",
       "..            ...                     ...\n",
       "75           5067  www.washingtonpost.com\n",
       "76            807         www.wikihow.com\n",
       "77           5546             www.wsj.com\n",
       "78          22433           www.yahoo.com\n",
       "79           2672       zeenews.india.com\n",
       "\n",
       "[80 rows x 2 columns]"
      ]
     },
     "execution_count": 14,
     "metadata": {},
     "output_type": "execute_result"
    }
   ],
   "source": [
    "# Count the number of articles produced by each reliable publisher\n",
    "df = pd.read_sql_query(\"SELECT COUNT(domain), domain FROM data WHERE type = 'reliable' GROUP BY domain\", db)\n",
    "df"
   ]
  },
  {
   "cell_type": "code",
   "execution_count": 16,
   "metadata": {},
   "outputs": [
    {
     "data": {
      "text/html": [
       "<div>\n",
       "<style scoped>\n",
       "    .dataframe tbody tr th:only-of-type {\n",
       "        vertical-align: middle;\n",
       "    }\n",
       "\n",
       "    .dataframe tbody tr th {\n",
       "        vertical-align: top;\n",
       "    }\n",
       "\n",
       "    .dataframe thead th {\n",
       "        text-align: right;\n",
       "    }\n",
       "</style>\n",
       "<table border=\"1\" class=\"dataframe\">\n",
       "  <thead>\n",
       "    <tr style=\"text-align: right;\">\n",
       "      <th></th>\n",
       "      <th>COUNT(domain)</th>\n",
       "      <th>domain</th>\n",
       "    </tr>\n",
       "  </thead>\n",
       "  <tbody>\n",
       "    <tr>\n",
       "      <th>27</th>\n",
       "      <td>1542685</td>\n",
       "      <td>nytimes.com</td>\n",
       "    </tr>\n",
       "    <tr>\n",
       "      <th>69</th>\n",
       "      <td>33983</td>\n",
       "      <td>www.reuters.com</td>\n",
       "    </tr>\n",
       "    <tr>\n",
       "      <th>78</th>\n",
       "      <td>22433</td>\n",
       "      <td>www.yahoo.com</td>\n",
       "    </tr>\n",
       "    <tr>\n",
       "      <th>70</th>\n",
       "      <td>22280</td>\n",
       "      <td>www.sfgate.com</td>\n",
       "    </tr>\n",
       "    <tr>\n",
       "      <th>8</th>\n",
       "      <td>19998</td>\n",
       "      <td>christianpost.com</td>\n",
       "    </tr>\n",
       "    <tr>\n",
       "      <th>...</th>\n",
       "      <td>...</td>\n",
       "      <td>...</td>\n",
       "    </tr>\n",
       "    <tr>\n",
       "      <th>4</th>\n",
       "      <td>641</td>\n",
       "      <td>au.news.yahoo.com</td>\n",
       "    </tr>\n",
       "    <tr>\n",
       "      <th>62</th>\n",
       "      <td>627</td>\n",
       "      <td>www.nfl.com</td>\n",
       "    </tr>\n",
       "    <tr>\n",
       "      <th>42</th>\n",
       "      <td>619</td>\n",
       "      <td>www.buzzfeed.com</td>\n",
       "    </tr>\n",
       "    <tr>\n",
       "      <th>71</th>\n",
       "      <td>612</td>\n",
       "      <td>www.theatlantic.com</td>\n",
       "    </tr>\n",
       "    <tr>\n",
       "      <th>52</th>\n",
       "      <td>611</td>\n",
       "      <td>www.foxnews.com</td>\n",
       "    </tr>\n",
       "  </tbody>\n",
       "</table>\n",
       "<p>80 rows × 2 columns</p>\n",
       "</div>"
      ],
      "text/plain": [
       "    COUNT(domain)               domain\n",
       "27        1542685          nytimes.com\n",
       "69          33983      www.reuters.com\n",
       "78          22433        www.yahoo.com\n",
       "70          22280       www.sfgate.com\n",
       "8           19998    christianpost.com\n",
       "..            ...                  ...\n",
       "4             641    au.news.yahoo.com\n",
       "62            627          www.nfl.com\n",
       "42            619     www.buzzfeed.com\n",
       "71            612  www.theatlantic.com\n",
       "52            611      www.foxnews.com\n",
       "\n",
       "[80 rows x 2 columns]"
      ]
     },
     "execution_count": 16,
     "metadata": {},
     "output_type": "execute_result"
    }
   ],
   "source": [
    "# Order\n",
    "df.sort_values(by=\"COUNT(domain)\", ascending=False, inplace=True)\n",
    "df"
   ]
  },
  {
   "attachments": {},
   "cell_type": "markdown",
   "metadata": {},
   "source": [
    "### Duplicate articles"
   ]
  },
  {
   "cell_type": "code",
   "execution_count": 11,
   "metadata": {},
   "outputs": [],
   "source": [
    "df = pd.read_sql_query(\n",
    "    'SELECT domain, type, content, COUNT() AS \"Count\" FROM data GROUP BY content ORDER BY Count() DESC LIMIT 10;',\n",
    "    db,\n",
    ")"
   ]
  },
  {
   "cell_type": "code",
   "execution_count": 12,
   "metadata": {},
   "outputs": [
    {
     "data": {
      "text/html": [
       "<div>\n",
       "<style scoped>\n",
       "    .dataframe tbody tr th:only-of-type {\n",
       "        vertical-align: middle;\n",
       "    }\n",
       "\n",
       "    .dataframe tbody tr th {\n",
       "        vertical-align: top;\n",
       "    }\n",
       "\n",
       "    .dataframe thead th {\n",
       "        text-align: right;\n",
       "    }\n",
       "</style>\n",
       "<table border=\"1\" class=\"dataframe\">\n",
       "  <thead>\n",
       "    <tr style=\"text-align: right;\">\n",
       "      <th></th>\n",
       "      <th>domain</th>\n",
       "      <th>type</th>\n",
       "      <th>content</th>\n",
       "      <th>Count</th>\n",
       "    </tr>\n",
       "  </thead>\n",
       "  <tbody>\n",
       "    <tr>\n",
       "      <th>0</th>\n",
       "      <td>nationalreview.com</td>\n",
       "      <td>political</td>\n",
       "      <td>Plus one article on Google Plus  (Thanks to Al...</td>\n",
       "      <td>273388</td>\n",
       "    </tr>\n",
       "    <tr>\n",
       "      <th>1</th>\n",
       "      <td>wikileaks.org</td>\n",
       "      <td>unreliable</td>\n",
       "      <td>Tor  Tor is an encrypted anonymising network t...</td>\n",
       "      <td>169259</td>\n",
       "    </tr>\n",
       "    <tr>\n",
       "      <th>2</th>\n",
       "      <td>sputniknews.com</td>\n",
       "      <td>bias</td>\n",
       "      <td>Dear readers, we are excited to announce that ...</td>\n",
       "      <td>102671</td>\n",
       "    </tr>\n",
       "    <tr>\n",
       "      <th>3</th>\n",
       "      <td>abovetopsecret.com</td>\n",
       "      <td>conspiracy</td>\n",
       "      <td>It looks like you're using an Ad Blocker.  Ple...</td>\n",
       "      <td>72978</td>\n",
       "    </tr>\n",
       "    <tr>\n",
       "      <th>4</th>\n",
       "      <td>investmentwatchblog.com</td>\n",
       "      <td>bias</td>\n",
       "      <td>It only takes a few moments to share an articl...</td>\n",
       "      <td>35490</td>\n",
       "    </tr>\n",
       "    <tr>\n",
       "      <th>5</th>\n",
       "      <td>dailykos.com</td>\n",
       "      <td>political</td>\n",
       "      <td>© Kos Media, LLC  Site content may be used for...</td>\n",
       "      <td>29649</td>\n",
       "    </tr>\n",
       "    <tr>\n",
       "      <th>6</th>\n",
       "      <td>sputniknews.com</td>\n",
       "      <td>bias</td>\n",
       "      <td>E-mail:  Screen Name:  Password:  Confirm pass...</td>\n",
       "      <td>27668</td>\n",
       "    </tr>\n",
       "    <tr>\n",
       "      <th>7</th>\n",
       "      <td>lifenews.com</td>\n",
       "      <td>bias</td>\n",
       "      <td>FAIR USE NOTICE. Many of the stories on this s...</td>\n",
       "      <td>24796</td>\n",
       "    </tr>\n",
       "    <tr>\n",
       "      <th>8</th>\n",
       "      <td>express.co.uk</td>\n",
       "      <td>rumor</td>\n",
       "      <td>Express. Home of the Daily and Sunday Express.</td>\n",
       "      <td>23216</td>\n",
       "    </tr>\n",
       "    <tr>\n",
       "      <th>9</th>\n",
       "      <td>nytimes.com</td>\n",
       "      <td>reliable</td>\n",
       "      <td>Opinion » Should Beach Privatization Be Allowe...</td>\n",
       "      <td>23035</td>\n",
       "    </tr>\n",
       "  </tbody>\n",
       "</table>\n",
       "</div>"
      ],
      "text/plain": [
       "                    domain        type  \\\n",
       "0       nationalreview.com   political   \n",
       "1            wikileaks.org  unreliable   \n",
       "2          sputniknews.com        bias   \n",
       "3       abovetopsecret.com  conspiracy   \n",
       "4  investmentwatchblog.com        bias   \n",
       "5             dailykos.com   political   \n",
       "6          sputniknews.com        bias   \n",
       "7             lifenews.com        bias   \n",
       "8            express.co.uk       rumor   \n",
       "9              nytimes.com    reliable   \n",
       "\n",
       "                                             content   Count  \n",
       "0  Plus one article on Google Plus  (Thanks to Al...  273388  \n",
       "1  Tor  Tor is an encrypted anonymising network t...  169259  \n",
       "2  Dear readers, we are excited to announce that ...  102671  \n",
       "3  It looks like you're using an Ad Blocker.  Ple...   72978  \n",
       "4  It only takes a few moments to share an articl...   35490  \n",
       "5  © Kos Media, LLC  Site content may be used for...   29649  \n",
       "6  E-mail:  Screen Name:  Password:  Confirm pass...   27668  \n",
       "7  FAIR USE NOTICE. Many of the stories on this s...   24796  \n",
       "8     Express. Home of the Daily and Sunday Express.   23216  \n",
       "9  Opinion » Should Beach Privatization Be Allowe...   23035  "
      ]
     },
     "execution_count": 12,
     "metadata": {},
     "output_type": "execute_result"
    }
   ],
   "source": [
    "df"
   ]
  },
  {
   "attachments": {},
   "cell_type": "markdown",
   "metadata": {},
   "source": [
    "### Domain classification\n",
    "One perculiar thing we encountered whilst exploring the data, was the fact that all the articles from any given domain are labeled the same. I.e. all the articles from the New York Times were labeled as reliable."
   ]
  },
  {
   "cell_type": "code",
   "execution_count": 13,
   "metadata": {},
   "outputs": [
    {
     "data": {
      "text/html": [
       "<div>\n",
       "<style scoped>\n",
       "    .dataframe tbody tr th:only-of-type {\n",
       "        vertical-align: middle;\n",
       "    }\n",
       "\n",
       "    .dataframe tbody tr th {\n",
       "        vertical-align: top;\n",
       "    }\n",
       "\n",
       "    .dataframe thead th {\n",
       "        text-align: right;\n",
       "    }\n",
       "</style>\n",
       "<table border=\"1\" class=\"dataframe\">\n",
       "  <thead>\n",
       "    <tr style=\"text-align: right;\">\n",
       "      <th></th>\n",
       "      <th>COUNT(type)</th>\n",
       "      <th>type</th>\n",
       "    </tr>\n",
       "  </thead>\n",
       "  <tbody>\n",
       "    <tr>\n",
       "      <th>0</th>\n",
       "      <td>4550</td>\n",
       "      <td>reliable</td>\n",
       "    </tr>\n",
       "  </tbody>\n",
       "</table>\n",
       "</div>"
      ],
      "text/plain": [
       "   COUNT(type)      type\n",
       "0         4550  reliable"
      ]
     },
     "execution_count": 13,
     "metadata": {},
     "output_type": "execute_result"
    }
   ],
   "source": [
    "df = pd.read_sql_query(\n",
    "    'SELECT COUNT(type), type FROM data WHERE domain = \"www.nytimes.com\" GROUP BY type',\n",
    "    db,\n",
    ")\n",
    "df"
   ]
  },
  {
   "attachments": {},
   "cell_type": "markdown",
   "metadata": {},
   "source": [
    "This shows that the creator of the dataset assumes that an articles reliability comes from the specific publisher / domain to which it is published. Whilst this assumption has no doubt made the scraping of articles easier, it is a very problematic assumption both in ethical and practical terms"
   ]
  },
  {
   "cell_type": "markdown",
   "metadata": {},
   "source": []
  }
 ],
 "metadata": {
  "kernelspec": {
   "display_name": "fakenewsproject-e_-K5Da1",
   "language": "python",
   "name": "python3"
  },
  "language_info": {
   "codemirror_mode": {
    "name": "ipython",
    "version": 3
   },
   "file_extension": ".py",
   "mimetype": "text/x-python",
   "name": "python",
   "nbconvert_exporter": "python",
   "pygments_lexer": "ipython3",
   "version": "3.10.10"
  },
  "orig_nbformat": 4
 },
 "nbformat": 4,
 "nbformat_minor": 2
}
