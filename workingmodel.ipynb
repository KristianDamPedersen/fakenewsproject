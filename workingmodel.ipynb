{
 "cells": [
  {
   "cell_type": "code",
   "execution_count": 1,
   "metadata": {},
   "outputs": [
    {
     "data": {
      "text/html": [
       "<div>\n",
       "<style scoped>\n",
       "    .dataframe tbody tr th:only-of-type {\n",
       "        vertical-align: middle;\n",
       "    }\n",
       "\n",
       "    .dataframe tbody tr th {\n",
       "        vertical-align: top;\n",
       "    }\n",
       "\n",
       "    .dataframe thead th {\n",
       "        text-align: right;\n",
       "    }\n",
       "</style>\n",
       "<table border=\"1\" class=\"dataframe\">\n",
       "  <thead>\n",
       "    <tr style=\"text-align: right;\">\n",
       "      <th></th>\n",
       "      <th>tokens</th>\n",
       "      <th>type</th>\n",
       "    </tr>\n",
       "    <tr>\n",
       "      <th>__null_dask_index__</th>\n",
       "      <th></th>\n",
       "      <th></th>\n",
       "    </tr>\n",
       "  </thead>\n",
       "  <tbody>\n",
       "    <tr>\n",
       "      <th>27</th>\n",
       "      <td>headline,bitcoin,blockchain,searches,exceed,tr...</td>\n",
       "      <td>fake</td>\n",
       "    </tr>\n",
       "    <tr>\n",
       "      <th>28</th>\n",
       "      <td>water,cooler,1,25,18,open,thread,fake,news,cnn...</td>\n",
       "      <td>fake</td>\n",
       "    </tr>\n",
       "    <tr>\n",
       "      <th>29</th>\n",
       "      <td>veteran,commentator,calls,growing,ethnonationa...</td>\n",
       "      <td>fake</td>\n",
       "    </tr>\n",
       "    <tr>\n",
       "      <th>30</th>\n",
       "      <td>lost,words,hidden,words,otters,banks,books,rea...</td>\n",
       "      <td>fake</td>\n",
       "    </tr>\n",
       "    <tr>\n",
       "      <th>32</th>\n",
       "      <td>scientists,doomsday,clock,ahead,30,seconds,clo...</td>\n",
       "      <td>fake</td>\n",
       "    </tr>\n",
       "  </tbody>\n",
       "</table>\n",
       "</div>"
      ],
      "text/plain": [
       "                                                                tokens  type\n",
       "__null_dask_index__                                                         \n",
       "27                   headline,bitcoin,blockchain,searches,exceed,tr...  fake\n",
       "28                   water,cooler,1,25,18,open,thread,fake,news,cnn...  fake\n",
       "29                   veteran,commentator,calls,growing,ethnonationa...  fake\n",
       "30                   lost,words,hidden,words,otters,banks,books,rea...  fake\n",
       "32                   scientists,doomsday,clock,ahead,30,seconds,clo...  fake"
      ]
     },
     "execution_count": 1,
     "metadata": {},
     "output_type": "execute_result"
    }
   ],
   "source": [
    "# Load \"news_sample.parquet\" into a dataframe\n",
    "import pandas as pd\n",
    "df = pd.read_parquet(\"fakenewsproject/data/train.parquet\", columns=[\"tokens\", \"type\"])\n",
    "df.head()"
   ]
  },
  {
   "cell_type": "code",
   "execution_count": 2,
   "metadata": {},
   "outputs": [
    {
     "name": "stdout",
     "output_type": "stream",
     "text": [
      "Reliable count:  1626724\n",
      "Fake count:  694504\n",
      "Reliable count:  347252\n",
      "Fake count:  347252\n"
     ]
    }
   ],
   "source": [
    "# Remove all duplicates\n",
    "df = df.drop_duplicates()\n",
    "\n",
    "# Balance dataset so we have the same number of \"reliable\" and \"fake\" news\n",
    "\n",
    "# Get the number of \"reliable\" and \"fake\" news\n",
    "reliable_count = df[df[\"type\"] == \"reliable\"].shape[0]\n",
    "fake_count = df[df[\"type\"] == \"fake\"].shape[0]\n",
    "\n",
    "# Get the minimum of the tw\n",
    "\n",
    "min_count = min(reliable_count, fake_count)\n",
    "# Divide by 2 to get the number of news we need to remove\n",
    "min_count = int(min_count / 2)\n",
    "\n",
    "print(\"Reliable count: \", reliable_count)\n",
    "print(\"Fake count: \", fake_count)\n",
    "\n",
    "# Balance the dataset so we have the same number of \"reliable\" and \"fake\" news\n",
    "df = df.groupby(\"type\").head(min_count)\n",
    "\n",
    "# Shuffle the dataset\n",
    "df = df.sample(frac=1).reset_index(drop=True)\n",
    "\n",
    "# Get the number of \"reliable\" and \"fake\" news\n",
    "reliable_count = df[df[\"type\"] == \"reliable\"].shape[0]\n",
    "fake_count = df[df[\"type\"] == \"fake\"].shape[0]\n",
    "\n",
    "print(\"Reliable count: \", reliable_count)\n",
    "print(\"Fake count: \", fake_count)"
   ]
  },
  {
   "cell_type": "code",
   "execution_count": 3,
   "metadata": {},
   "outputs": [],
   "source": [
    "# Calculate tf-idf vectors for the text column\n",
    "from sklearn.feature_extraction.text import TfidfVectorizer\n",
    "tfidf = TfidfVectorizer(max_features=2048, sublinear_tf=True)\n",
    "\n",
    "# Generate test and train sets, test set is the last 5000 rows\n",
    "X_train = df[\"tokens\"].iloc[:-5000]\n",
    "X_test = df[\"tokens\"].iloc[-5000:]\n",
    "y_train = df[\"type\"].iloc[:-5000]\n",
    "y_test = df[\"type\"].iloc[-5000:]\n",
    "del df\n",
    "\n",
    "# Fit the tf-idf model on the tokens, which need commas removed\n",
    "X_train = tfidf.fit_transform(X_train.str.replace(\",\", \" \"))"
   ]
  },
  {
   "cell_type": "code",
   "execution_count": 4,
   "metadata": {},
   "outputs": [
    {
     "name": "stdout",
     "output_type": "stream",
     "text": [
      "[0.00700087 0.0111759  0.00990185 0.00886182 0.00738717 0.00635153\n",
      " 0.00545126 0.0049254  0.00469852 0.00448967 0.0041026  0.00386494\n",
      " 0.00360394 0.00344727 0.00319469 0.00310061 0.00303581 0.00291166\n",
      " 0.00280626 0.0027264  0.00265004 0.00253484 0.00246258 0.00241451\n",
      " 0.00229998 0.0022773  0.0022247  0.00220849 0.00209613 0.00207826\n",
      " 0.00199485 0.001978   0.0019176  0.00189622 0.00187902 0.00186198\n",
      " 0.00178929 0.00176984 0.0017342  0.00170018 0.001682   0.0016512\n",
      " 0.00163638 0.00161511 0.00158734 0.00157109 0.00154627 0.00154072\n",
      " 0.00151506 0.00147841 0.00146144 0.00145493 0.00143839 0.00143118\n",
      " 0.00141305 0.00140453 0.00138518 0.00136695 0.00134355 0.00132979\n",
      " 0.00132127 0.00131295 0.00129971 0.00128332 0.00126409 0.00125339\n",
      " 0.00124967 0.00123605 0.00123453 0.00121825 0.00121602 0.00120105\n",
      " 0.0011996  0.0011922  0.00118832 0.00118096 0.00117843 0.00116672\n",
      " 0.00115899 0.00114668 0.00114134 0.00113973 0.00113176 0.00112648\n",
      " 0.00111849 0.00111462 0.00110756 0.00109973 0.00109286 0.00109044\n",
      " 0.00108134 0.00107709 0.00107556 0.0010692  0.00106206 0.00105663\n",
      " 0.0010548  0.00104666 0.00104581 0.00103704 0.00103569 0.00102974\n",
      " 0.00102556 0.00102457 0.00101675 0.00101313 0.00100961 0.00100372\n",
      " 0.00100145 0.00099803 0.00099338 0.00099151 0.00098317 0.00098059\n",
      " 0.00097722 0.00096931 0.00096601 0.00096154 0.0009605  0.00095643\n",
      " 0.00095664 0.00095165 0.00094649 0.00094538 0.00094144 0.00093778\n",
      " 0.00093237 0.00092865 0.00092312 0.00092065 0.00091692 0.00091429\n",
      " 0.0009093  0.00090741 0.00090649 0.00090248 0.00090018 0.00089752\n",
      " 0.00089339 0.00089102 0.00088803 0.000887   0.00088141 0.00087778\n",
      " 0.00087574 0.000872   0.00086924 0.00086838 0.00086541 0.0008625\n",
      " 0.00085955 0.00085496 0.00085344 0.00085056 0.00084958 0.00084475\n",
      " 0.00084154 0.00083911 0.000834   0.00083144 0.00083128 0.00082811\n",
      " 0.00082332 0.00082167 0.00081938 0.00081721 0.00081583 0.00081383\n",
      " 0.00081133 0.00080932 0.00080961 0.00080625 0.0008038  0.00080049\n",
      " 0.0007989  0.00079573 0.00079186 0.00078955 0.00078967 0.00078635\n",
      " 0.00078783 0.00078119 0.00077865 0.00077629 0.00077493 0.00077365\n",
      " 0.00077021 0.00076644 0.00076593 0.0007652  0.00076127 0.00075868\n",
      " 0.00075745 0.0007555  0.00075145 0.00074887 0.00074832 0.00074758\n",
      " 0.00074227 0.00074288 0.00074073 0.00073703 0.00073296 0.00073114\n",
      " 0.00072854 0.00072773 0.00072671 0.00072425 0.00072306 0.00072338\n",
      " 0.00072076 0.00071781 0.00071476 0.00071211 0.00071133 0.00071111\n",
      " 0.00070779 0.00070631 0.00070269 0.0007015  0.00070048 0.00069874\n",
      " 0.00069829 0.00069714 0.00069357 0.00069226 0.00068983 0.0006877\n",
      " 0.00068642 0.00068512 0.00068438 0.00068142 0.0006777  0.00067664\n",
      " 0.00067585 0.00067407 0.00067096 0.00066909 0.00066721 0.00066615\n",
      " 0.00066385 0.00066251 0.0006591  0.00065515 0.00065494 0.00065338\n",
      " 0.00065164 0.00064763 0.00064534 0.00064394 0.00064194 0.00063756\n",
      " 0.00063644 0.00063507 0.00063214 0.00063145]\n"
     ]
    }
   ],
   "source": [
    "# Train truncated SVD model\n",
    "from sklearn.decomposition import TruncatedSVD\n",
    "pca = TruncatedSVD(n_components=256)\n",
    "X_train = pca.fit_transform(X_train)\n",
    "# Print explained variance of each component\n",
    "print(pca.explained_variance_ratio_)"
   ]
  },
  {
   "cell_type": "code",
   "execution_count": 7,
   "metadata": {},
   "outputs": [],
   "source": [
    "# Transform X_test with tf-idf and pca\n",
    "X_test = pca.transform(tfidf.transform(X_test.str.replace(\",\", \" \")))"
   ]
  },
  {
   "cell_type": "code",
   "execution_count": 13,
   "metadata": {},
   "outputs": [],
   "source": [
    "# train logistic regression model\n",
    "from sklearn.linear_model import LogisticRegression\n",
    "lr = LogisticRegression()\n",
    "lr.fit(X_train, y_train)\n",
    "model = lr\n",
    "\n",
    "# 92% accuracy\n"
   ]
  },
  {
   "cell_type": "code",
   "execution_count": 9,
   "metadata": {},
   "outputs": [],
   "source": [
    "# Train random forest model\n",
    "from sklearn.ensemble import RandomForestClassifier\n",
    "rf = RandomForestClassifier(n_jobs=-1)\n",
    "rf.fit(X_train, y_train)\n",
    "model = rf\n",
    "\n",
    "# 91% accuracy"
   ]
  },
  {
   "cell_type": "code",
   "execution_count": 11,
   "metadata": {},
   "outputs": [],
   "source": [
    "# Try to train a linear SVM model\n",
    "from sklearn.svm import LinearSVC\n",
    "svm = LinearSVC()\n",
    "svm.fit(X_train, y_train)\n",
    "model = svm\n",
    "\n",
    "# 91% accuracy"
   ]
  },
  {
   "cell_type": "code",
   "execution_count": 16,
   "metadata": {},
   "outputs": [],
   "source": [
    "# Train a naive bayes model\n",
    "from sklearn.naive_bayes import CategoricalNB\n",
    "nb = CategoricalNB()\n",
    "nb.fit(X_train, y_train)\n",
    "model = nb\n",
    "# Accuracy of 49%, no predictive power"
   ]
  },
  {
   "cell_type": "code",
   "execution_count": 17,
   "metadata": {},
   "outputs": [
    {
     "name": "stdout",
     "output_type": "stream",
     "text": [
      "Score:  0.4946\n"
     ]
    },
    {
     "data": {
      "text/plain": [
       "Text(0, 0.5, 'True label')"
      ]
     },
     "execution_count": 17,
     "metadata": {},
     "output_type": "execute_result"
    },
    {
     "data": {
      "image/png": "[encoded data removed]",
      "text/plain": [
       "<Figure size 500x500 with 1 Axes>"
      ]
     },
     "metadata": {},
     "output_type": "display_data"
    }
   ],
   "source": [
    "score = model.score(X_test, y_test)\n",
    "\n",
    "print(\"Score: \", score)\n",
    "\n",
    "# Calculate confusion matrix\n",
    "from sklearn.metrics import confusion_matrix\n",
    "y_pred = model.predict(X_test)\n",
    "\n",
    "import matplotlib.pyplot as plt\n",
    "\n",
    "# Make confusion matrix\n",
    "confusion_matrix = confusion_matrix(y_test, y_pred, normalize=\"true\")\n",
    "# Plot confusion matrix\n",
    "plt.figure(figsize=(5, 5))\n",
    "plt.imshow(confusion_matrix, interpolation=\"nearest\", cmap=plt.cm.gray_r)\n",
    "for i in range(2):\n",
    "    for j in range(2):\n",
    "        plt.text(j, i, format(confusion_matrix[i, j], '.2f'), horizontalalignment=\"center\", color=\"white\" if confusion_matrix[i, j] > 0.5 else \"black\")\n",
    "plt.xlabel(\"Predicted label\")\n",
    "plt.ylabel(\"True label\")"
   ]
  }
 ],
 "metadata": {
  "kernelspec": {
   "display_name": "fakenewsproject-svAUhgBm",
   "language": "python",
   "name": "python3"
  },
  "language_info": {
   "codemirror_mode": {
    "name": "ipython",
    "version": 3
   },
   "file_extension": ".py",
   "mimetype": "text/x-python",
   "name": "python",
   "nbconvert_exporter": "python",
   "pygments_lexer": "ipython3",
   "version": "3.10.10"
  },
  "orig_nbformat": 4,
  "vscode": {
   "interpreter": {
    "hash": "2395ac2a1fad68e58416ccc835ab28370f1438fe2c47cf728897219f38c0ae31"
   }
  }
 },
 "nbformat": 4,
 "nbformat_minor": 2
}
